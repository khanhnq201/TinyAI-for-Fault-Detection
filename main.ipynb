{
 "cells": [
  {
   "cell_type": "markdown",
   "id": "6a636f59",
   "metadata": {},
   "source": [
    "# 1. Import"
   ]
  },
  {
   "cell_type": "code",
   "execution_count": null,
   "id": "c06148c7",
   "metadata": {},
   "outputs": [],
   "source": [
    "%load_ext autoreload\n",
    "%autoreload 2\n",
    "\n",
    "import cfg\n",
    "from src import data_loader, models, trainer, evaluate\n",
    "from torchinfo import summary\n",
    "import torch.nn as nn\n",
    "import torch.optim as optim\n",
    "\n",
    "trainer.set_seed(cfg.RANDOM_STATE)\n"
   ]
  },
  {
   "cell_type": "markdown",
   "id": "6d8d91c1",
   "metadata": {},
   "source": [
    "# 2. Data loading"
   ]
  },
  {
   "cell_type": "code",
   "execution_count": null,
   "id": "8b9a20a0",
   "metadata": {},
   "outputs": [],
   "source": [
    "if cfg.IMBALANCED_MODE == True: \n",
    "    X_train, Y_train, X_val, Y_val, X_test, Y_test = data_loader.data_import(cfg.OVERLAPPING_RATIO,cfg.BASE_PATH,cfg.SAMPLE_LENGTH, cfg.PREPROCESSING)\n",
    "    X_train_imbalanced, Y_train_imbalanced = data_loader.create_imbalanced_data(X_train, Y_train, cfg.IMBALANCED_RATIO, cfg.NUM_CLASSES)\n",
    "    X_train_normalized, X_val_normalized, X_test_normalized = data_loader.normalize_data(X_train_imbalanced, X_val, X_test)\n",
    "    X_train_smoted, Y_train_smoted = data_loader.apply_smote(X_train_normalized, Y_train_imbalanced, cfg.RANDOM_STATE, cfg.SAMPLE_LENGTH)\n",
    "    train_loader, val_loader, test_loader = data_loader.create_dataloaders(X_train_smoted, Y_train_smoted,\n",
    "                                                                            X_val_normalized, Y_val,\n",
    "                                                                            X_test_normalized, Y_test,\n",
    "                                                                            cfg.SAMPLE_LENGTH, cfg.CNN1D_INPUT, cfg.BATCH_SIZE, cfg.RANDOM_STATE)\n",
    "else:\n",
    "    X_train, Y_train, X_val, Y_val, X_test, Y_test = data_loader.data_import(cfg.OVERLAPPING_RATIO,cfg.BASE_PATH,cfg.SAMPLE_LENGTH,cfg.PREPROCESSING)\n",
    "    X_train_normalized, X_val_normalized, X_test_normalized = data_loader.normalize_data(X_train, X_val, X_test)\n",
    "    train_loader, val_loader, test_loader = data_loader.create_dataloaders(X_train_normalized, Y_train,\n",
    "                                                                            X_val_normalized, Y_val,\n",
    "                                                                            X_test_normalized, Y_test,\n",
    "                                                                            cfg.SAMPLE_LENGTH, cfg.CNN1D_INPUT, cfg.BATCH_SIZE, cfg.RANDOM_STATE)"
   ]
  },
  {
   "cell_type": "markdown",
   "id": "e23f98c0",
   "metadata": {},
   "source": [
    "# 3. Model defining"
   ]
  },
  {
   "cell_type": "code",
   "execution_count": null,
   "id": "e161c3e2",
   "metadata": {},
   "outputs": [],
   "source": [
    "if cfg.MODEL_TYPE == 'student':\n",
    "  print(\"Using StudentModel\")\n",
    "  model_test = models.StudentModel_Improved(cfg.NUM_CLASSES)\n",
    "if cfg.MODEL_TYPE == 'teacher':\n",
    "  print(\"Using TeacherModel\")\n",
    "  model_test = models.TeacherModel(cfg.NUM_CLASSES)\n",
    "\n",
    "if cfg.MODEL_TYPE == '1D':\n",
    "  print(\"Using 1DCNNModel\")\n",
    "  model_test = models.Basic1DCNN(1,cfg.NUM_CLASSES)\n",
    "\n",
    "if cfg.MODEL_TYPE == '1D-Basic':\n",
    "  print(\"Using 1DCNNModel\")\n",
    "  model_test = models.Basic1DCNN(1, cfg.NUM_CLASSES)\n",
    "  \n",
    "# summary(model_test, input_size=(cfg.BATCH_SIZE, 1,cfg.LENGTH))\n",
    "size = int(cfg.SAMPLE_LENGTH**(1/2))\n",
    "summary(model_test, input_size=(cfg.BATCH_SIZE, 1, size, size))\n"
   ]
  },
  {
   "cell_type": "markdown",
   "id": "d6317ddc",
   "metadata": {},
   "source": [
    "# 4. Training"
   ]
  },
  {
   "cell_type": "code",
   "execution_count": null,
   "id": "f2598540",
   "metadata": {},
   "outputs": [],
   "source": [
    "print(f'Using device: {cfg.DEVICE}')\n",
    "criterion = nn.CrossEntropyLoss()\n",
    "optimizer = optim.Adam(model_test.parameters(), lr= cfg.LEARNING_RATE)\n",
    "scheduler = optim.lr_scheduler.CosineAnnealingLR(optimizer, T_max= cfg.NUM_EPOCHS, eta_min=cfg.LEARNING_RATE *1e-2)\n",
    "trained_model, history = trainer.train_model(model_test, train_loader, val_loader, criterion, optimizer, scheduler, num_epochs=cfg.NUM_EPOCHS, device=cfg.DEVICE)"
   ]
  },
  {
   "cell_type": "markdown",
   "id": "2e691aac",
   "metadata": {},
   "source": [
    "# 5. Evaluating"
   ]
  },
  {
   "cell_type": "code",
   "execution_count": null,
   "id": "1a3a80bb",
   "metadata": {},
   "outputs": [],
   "source": [
    "print(\"Confusion Matrix\")\n",
    "evaluate.plot_confusion_matrix(trained_model, test_loader, 'cpu', cfg.CLASS_NAMES)\n",
    "\n",
    "print(\"\\nt-SNE\")\n",
    "evaluate.plot_tsne(trained_model, test_loader, 'cpu', cfg.CLASS_NAMES, n_iter=1000, perplexity=30) # n_iter và perplexity có thể cần điều chỉnh\n",
    "\n",
    "print(\"\\nHistory\")\n",
    "evaluate.plot_history(history)"
   ]
  },
  {
   "cell_type": "code",
   "execution_count": null,
   "id": "e339d068",
   "metadata": {},
   "outputs": [],
   "source": [
    "print(\"Confusion Matrix\")\n",
    "evaluate.plot_confusion_matrix(trained_model, val_loader, 'cpu', cfg.CLASS_NAMES)\n",
    "\n",
    "print(\"\\nt-SNE\")\n",
    "evaluate.plot_tsne(trained_model, val_loader, 'cpu', cfg.CLASS_NAMES, n_iter=1000, perplexity=30) # n_iter và perplexity có thể cần điều chỉnh"
   ]
  },
  {
   "cell_type": "code",
   "execution_count": null,
   "id": "f3057649",
   "metadata": {},
   "outputs": [],
   "source": [
    "print(\"Confusion Matrix\")\n",
    "evaluate.plot_confusion_matrix(trained_model, train_loader, 'cpu', cfg.CLASS_NAMES)\n",
    "\n",
    "print(\"\\nt-SNE\")\n",
    "evaluate.plot_tsne(trained_model, train_loader, 'cpu', cfg.CLASS_NAMES, n_iter=1000, perplexity=30) # n_iter và perplexity có thể cần điều chỉnh"
   ]
  }
 ],
 "metadata": {
  "kernelspec": {
   "display_name": "base",
   "language": "python",
   "name": "python3"
  },
  "language_info": {
   "codemirror_mode": {
    "name": "ipython",
    "version": 3
   },
   "file_extension": ".py",
   "mimetype": "text/x-python",
   "name": "python",
   "nbconvert_exporter": "python",
   "pygments_lexer": "ipython3",
   "version": "3.11.5"
  }
 },
 "nbformat": 4,
 "nbformat_minor": 5
}
